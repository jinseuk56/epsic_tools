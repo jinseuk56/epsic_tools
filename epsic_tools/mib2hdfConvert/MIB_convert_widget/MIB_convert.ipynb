{
 "cells": [
  {
   "cell_type": "markdown",
   "id": "b365fe26-c64d-43da-ae58-f1d880152db5",
   "metadata": {},
   "source": [
    "## Widget to convert raw MIB files into HDF5 files\n",
    "### This cell is for original MIB files"
   ]
  },
  {
   "cell_type": "code",
   "execution_count": null,
   "id": "2b52b84d-56c9-4bc0-bfc0-604d5684b984",
   "metadata": {
    "editable": true,
    "slideshow": {
     "slide_type": ""
    },
    "tags": []
   },
   "outputs": [],
   "source": [
    "%matplotlib widget\n",
    "import sys\n",
    "sys.path.append('/dls_sw/e02/software/epsic_tools/epsic_tools/mib2hdfConvert/MIB_convert_widget/scripts')\n",
    "from MIB_convert import *\n",
    "\n",
    "convert = convert_info_widget()"
   ]
  },
  {
   "cell_type": "markdown",
   "id": "f6cbcdfa-68f8-4ac9-b5c1-00d265a0f4d7",
   "metadata": {},
   "source": [
    "## Widget to generate virtual images using py4DSTEM\n",
    "### This cell is for previously converted data, i.e., HDF5 files"
   ]
  },
  {
   "cell_type": "code",
   "execution_count": null,
   "id": "36ce3260-065b-4b6b-a752-365bdfab3eff",
   "metadata": {},
   "outputs": [],
   "source": [
    "%matplotlib widget\n",
    "import sys\n",
    "sys.path.append('/dls_sw/e02/software/epsic_tools/epsic_tools/mib2hdfConvert/MIB_convert_widget/scripts')\n",
    "from MIB_convert import *\n",
    "\n",
    "convert = convert_info_widget(virtual_image=True)"
   ]
  },
  {
   "cell_type": "markdown",
   "id": "f71a8150-b0ad-45fc-ab4b-fe97cf2bcaa6",
   "metadata": {},
   "source": [
    "## Widget to generate PtyREX JSON files\n",
    "### This cell is for previously converted data, i.e., HDF5 files"
   ]
  },
  {
   "cell_type": "code",
   "execution_count": null,
   "id": "b27fadb9-6150-4181-afcd-ab1b92eeb06f",
   "metadata": {
    "editable": true,
    "slideshow": {
     "slide_type": ""
    },
    "tags": []
   },
   "outputs": [],
   "source": [
    "%matplotlib widget\n",
    "import sys\n",
    "sys.path.append('/dls_sw/e02/software/epsic_tools/epsic_tools/mib2hdfConvert/MIB_convert_widget/scripts')\n",
    "from MIB_convert import *\n",
    "\n",
    "ptyrex_meta = convert_info_widget(ptyrex_json=True)"
   ]
  },
  {
   "cell_type": "markdown",
   "id": "a55be1fb-69ac-4aa9-9e8b-ab2b4f0a0c4f",
   "metadata": {},
   "source": [
    "## Widget to submit PtyREX reconstruction jobs\n",
    "### This cell is for previously converted data, i.e., HDF5 files"
   ]
  },
  {
   "cell_type": "code",
   "execution_count": null,
   "id": "56185932-0f6f-438d-94e0-27480e3d0064",
   "metadata": {},
   "outputs": [],
   "source": [
    "%matplotlib widget\n",
    "import sys\n",
    "sys.path.append('/dls_sw/e02/software/epsic_tools/epsic_tools/mib2hdfConvert/MIB_convert_widget/scripts')\n",
    "from MIB_convert import *\n",
    "\n",
    "ptyrex_meta = convert_info_widget(ptyrex_submit=True)"
   ]
  },
  {
   "cell_type": "markdown",
   "id": "741fb8bb-0f95-406c-a337-fa8d5deeada2",
   "metadata": {},
   "source": [
    "## Widget to submit Au calibration jobs\n",
    "### This cell is for previously converted data, i.e., HDF5 files"
   ]
  },
  {
   "cell_type": "code",
   "execution_count": null,
   "id": "5ac8f425-defd-447a-a7ab-1b21de80d4b3",
   "metadata": {},
   "outputs": [],
   "source": [
    "%matplotlib widget\n",
    "import sys\n",
    "sys.path.append('/dls_sw/e02/software/epsic_tools/epsic_tools/mib2hdfConvert/MIB_convert_widget/scripts')\n",
    "from MIB_convert import *\n",
    "\n",
    "au_calibration = convert_info_widget(au_calibration_submit=True)"
   ]
  },
  {
   "cell_type": "markdown",
   "id": "fa0483e6-29d5-45e4-ad78-1d5eeb2e50be",
   "metadata": {},
   "source": [
    "## Widget to submit radial transformation jobs\n",
    "### This cell is for previously converted data, i.e., HDF5 files"
   ]
  },
  {
   "cell_type": "code",
   "execution_count": null,
   "id": "5781de94-67c0-4758-aaf3-99bf244544ef",
   "metadata": {},
   "outputs": [],
   "source": [
    "%matplotlib widget\n",
    "import sys\n",
    "sys.path.append('/dls_sw/e02/software/epsic_tools/epsic_tools/mib2hdfConvert/MIB_convert_widget/scripts')\n",
    "from MIB_convert import *\n",
    "\n",
    "radial_transformation = convert_info_widget(radial_transformation_submit=True)"
   ]
  },
  {
   "cell_type": "code",
   "execution_count": null,
   "id": "5926b18c-2ad2-4f2f-918b-c4a619b9e05f",
   "metadata": {},
   "outputs": [],
   "source": [
    "\"\"\"\n",
    "Base directory path:\n",
    "    base directory path (e.g., /dls/staging/dls/e02/data, default=/dls/e02/data)\n",
    "year:\n",
    "    year of the session, e.g., 202X\n",
    "session:\n",
    "    session referenc e.g., mgXXXXX-X\n",
    "All MIB files in 'Merlin' folder:\n",
    "    if checked and no subfolder name is specified, all MIB files in 'Merlin' folder will be converted\n",
    "subfolder:\n",
    "    subfolder name, it has a higher priority than the widget above\n",
    "Show the path of each MIB file:\n",
    "    if checked, the paths of the MIB files that will be converted are shown\n",
    "Choose a reshaping option\n",
    "    Auto reshape:\n",
    "        if checked, the scan region will be automatically reshaped\n",
    "    No reshaping:\n",
    "        if checked, the scan region will not be reshaped into 2D scan dimensions\n",
    "    Use Fly-back:\n",
    "        if checked, the scan region will be completely recovered.\n",
    "    Known_shape:\n",
    "        if checked, the scan region will be reshaped as you want (if possible)\n",
    "Scan_X:\n",
    "    x-axis dimension of the scan region for the 'Known_shape' option\n",
    "Scan_Y:\n",
    "    y-axis dimension of the scan region for the 'Known_shape' option\n",
    "Bin_nav:\n",
    "    rebin the data for the scan shape and save it as a HSPY file\n",
    "Bin_sig:\n",
    "    rebin the data for the diffraction shape and save it as a HSPY file\n",
    "Select the cluster node (cs04r recommended):\n",
    "    select the cluster node to use. 'cs05r' is the GPU cluster node, so please do not use it unnecessarily.\n",
    "Number of multiple slurm jobs:\n",
    "    determine the number of multiple jobs to submit\n",
    "Create slurm batch file:\n",
    "    if checked, the slurm batch file will be created in the save directory\n",
    "Create conversion info file:\n",
    "    if checked, the information file for the MIB conversion will be created in the save directory\n",
    "Submit a slurm job\n",
    "    if checked, the slurm job will be submitted.\n",
    "    Make sure that this is unchecked before you change any widgets\n",
    "\n",
    "Create virtual images:\n",
    "    if checked, virtual images such BF-STEM and ADF-STEM will be generated using py4DSTEM in the save directory    \n",
    "Lower threshold value to detect the disk:\n",
    "    lower threshold value to detect the center disk\n",
    "Upper threshold value to detect the disk:\n",
    "    upper threshold value to detect the center disk   \n",
    "Enter the mask file path (optional):\n",
    "    mask file path\n",
    "DPC:\n",
    "    if checked, CoM and iCoM DPC images will be generated\n",
    "DPC low pass:\n",
    "    low pass filter for iCoM DPC image\n",
    "DPC high pass:\n",
    "    high pass filter for iCoM DPC image\n",
    "Parallax:\n",
    "    if checked, virtual parallax images and expected experimental conditions will be calculated\n",
    "    \n",
    "\n",
    "Create a ptychography subfolder:\n",
    "    if checked, the json file for the ptyrex reconstruction will be created in the save directory\n",
    "Enter config name (optional):\n",
    "    PtyREX recontruction name\n",
    "Enter template config path (optional):\n",
    "    PtyREX template json file path you want to use\n",
    "\"\"\""
   ]
  }
 ],
 "metadata": {
  "kernelspec": {
   "display_name": "Python 3.10 - EPSIC [DLS Conda]",
   "language": "python",
   "name": "conda-env-DLS_Conda-epsic3.10-kernel.json"
  },
  "language_info": {
   "codemirror_mode": {
    "name": "ipython",
    "version": 3
   },
   "file_extension": ".py",
   "mimetype": "text/x-python",
   "name": "python",
   "nbconvert_exporter": "python",
   "pygments_lexer": "ipython3",
   "version": "3.10.13"
  },
  "widgets": {
   "application/vnd.jupyter.widget-state+json": {
    "state": {},
    "version_major": 2,
    "version_minor": 0
   }
  }
 },
 "nbformat": 4,
 "nbformat_minor": 5
}
