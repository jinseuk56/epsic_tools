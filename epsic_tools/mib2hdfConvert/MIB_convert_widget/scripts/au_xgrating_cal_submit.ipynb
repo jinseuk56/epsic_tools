{
 "cells": [
  {
   "cell_type": "code",
   "execution_count": null,
   "id": "2091ffab",
   "metadata": {
    "tags": []
   },
   "outputs": [],
   "source": [
    "import matplotlib.pyplot as plt\n",
    "import hyperspy.api as hs\n",
    "import numpy as np\n",
    "import py4DSTEM\n",
    "from py4DSTEM.visualize import show\n",
    "print(py4DSTEM.__file__)\n",
    "print('py4dstem : ', py4DSTEM.__version__)\n",
    "print('Hyperspy : ', hs.__version__)\n",
    "import h5py\n",
    "import json"
   ]
  },
  {
   "cell_type": "code",
   "execution_count": null,
   "id": "dab52a1b-2de2-470d-af1e-8609e8c1ce6a",
   "metadata": {
    "tags": []
   },
   "outputs": [],
   "source": [
    "file_path='template'"
   ]
  },
  {
   "cell_type": "code",
   "execution_count": null,
   "id": "9046d93f-12c4-4e84-9461-e8e830388643",
   "metadata": {
    "tags": []
   },
   "outputs": [],
   "source": [
    "# Do not delete this cell"
   ]
  },
  {
   "cell_type": "markdown",
   "id": "80c3bcaa-dfd4-477f-87c4-76a2ea786646",
   "metadata": {},
   "source": [
    "## Prepare data"
   ]
  },
  {
   "cell_type": "code",
   "execution_count": null,
   "id": "2716b6ae-443b-45c5-b582-fe1173fbffce",
   "metadata": {
    "tags": []
   },
   "outputs": [],
   "source": [
    "## Get data\n",
    "meta_path = file_path.split('_data')[-2]+ '.hdf'\n",
    "with h5py.File(meta_path, 'r') as f:\n",
    "    print(f['metadata'].keys())\n",
    "    print('kV : ' , f['metadata/ht_value(V)'][()])\n",
    "    nominal_CL = f['metadata/nominal_camera_length(m)'][()]\n",
    "    print('camera_length : ', nominal_CL)\n",
    "    \n",
    "    HT = f['metadata/ht_value(V)'][()].astype(int)\n",
    "    cam_len = (f['metadata/nominal_camera_length(m)'][()] * 100).astype(int) #CL in cm"
   ]
  },
  {
   "cell_type": "code",
   "execution_count": null,
   "id": "b18338df-a3fb-4d6b-a0ec-ff079a9731cd",
   "metadata": {
    "tags": []
   },
   "outputs": [],
   "source": [
    "data_file =  file_path.split('_data')[-2] +'_data.hdf5'\n",
    "f = h5py.File(data_file,'r')\n",
    "print(f)\n",
    "d = f['Experiments']['__unnamed__']['data'][:]\n",
    "f.close()\n",
    "print(data_file)\n",
    "d = hs.signals.Signal2D(d)"
   ]
  },
  {
   "cell_type": "code",
   "execution_count": null,
   "id": "22a0dcab-cd57-4c1c-98fa-77cac66c2081",
   "metadata": {
    "tags": []
   },
   "outputs": [],
   "source": [
    "#reduce size in real space\n",
    "if d.data.shape[1] > 250:\n",
    "    d_bin4 = d.inav[:252, :252].rebin(scale = (4, 4, 1, 1))\n",
    "else:\n",
    "    d_bin4 = d.inav[:124, :124].rebin(scale = (2, 2, 1, 1))"
   ]
  },
  {
   "cell_type": "code",
   "execution_count": null,
   "id": "c8cba243-eacb-4fbb-b381-7589e150d48a",
   "metadata": {
    "tags": []
   },
   "outputs": [],
   "source": [
    "#pass to py4DSTEM\n",
    "datacube = py4DSTEM.datacube.DataCube(data = d_bin4.data)"
   ]
  },
  {
   "cell_type": "code",
   "execution_count": null,
   "id": "61667a52-d682-4eea-9a62-68a602b12239",
   "metadata": {
    "tags": []
   },
   "outputs": [],
   "source": [
    "datacube"
   ]
  },
  {
   "cell_type": "code",
   "execution_count": null,
   "id": "91b26127-2fe2-4e73-a2d6-21a3b531debb",
   "metadata": {
    "tags": []
   },
   "outputs": [],
   "source": [
    "#add some approx calibration data\n",
    "if HT == 300000 and cam_len == 20:\n",
    "    pixel_size_inv_Ang = 0.0093\n",
    "elif HT == 300000 and cam_len == 40:\n",
    "    pixel_size_inv_Ang = 0.0049\n",
    "elif HT == 300000 and cam_len == 80:\n",
    "    pixel_size_inv_Ang = 0.0024\n",
    "elif HT == 300000 and cam_len == 100:\n",
    "    pixel_size_inv_Ang = 0.0019\n",
    "elif HT == 200000 and cam_len == 9:\n",
    "    pixel_size_inv_Ang = 0.011\n",
    "elif HT == 200000 and cam_len == 20:\n",
    "    pixel_size_inv_Ang = 0.0053\n",
    "elif HT == 200000 and cam_len == 40:\n",
    "    pixel_size_inv_Ang = 0.0027\n",
    "elif HT == 200000 and cam_len == 80:\n",
    "    pixel_size_inv_Ang = 0.0014   \n",
    "elif HT == 200000 and cam_len == 100:\n",
    "    pixel_size_inv_Ang = 0.0009\n",
    "\n",
    "pixel_size_inv_Ang = pixel_size_inv_Ang * float(eval(pixel_size_factor))\n",
    "\n",
    "#Diffraction space\n",
    "datacube.calibration.set_Q_pixel_size(pixel_size_inv_Ang)\n",
    "datacube.calibration.set_Q_pixel_units('A^-1')"
   ]
  },
  {
   "cell_type": "code",
   "execution_count": null,
   "id": "6933209d-f52c-42cd-ac90-64f9b7468c0d",
   "metadata": {
    "tags": []
   },
   "outputs": [],
   "source": [
    "pixel_size_inv_Ang"
   ]
  },
  {
   "cell_type": "code",
   "execution_count": null,
   "id": "93d9e521-d0ba-4466-b228-3bf075b5cdfc",
   "metadata": {
    "tags": []
   },
   "outputs": [],
   "source": [
    "datacube"
   ]
  },
  {
   "cell_type": "code",
   "execution_count": null,
   "id": "7c4a0d58-4c46-420a-a489-dd0fe64c5b57",
   "metadata": {
    "tags": []
   },
   "outputs": [],
   "source": [
    "#remove hot pixels\n",
    "datacube, mask = datacube.filter_hot_pixels(thresh = 0.1, return_mask=True)"
   ]
  },
  {
   "cell_type": "code",
   "execution_count": null,
   "id": "570e3092-e832-4991-90a8-166df2a1f2a3",
   "metadata": {
    "tags": []
   },
   "outputs": [],
   "source": [
    "plt.figure()\n",
    "plt.imshow(mask)"
   ]
  },
  {
   "cell_type": "code",
   "execution_count": null,
   "id": "6a98363a-8746-4ea7-98a7-fb0bdbe0b612",
   "metadata": {
    "tags": []
   },
   "outputs": [],
   "source": [
    "#calculate the max and mean diff patterns from the full data set\n",
    "datacube.get_dp_max();\n",
    "datacube.get_dp_mean();"
   ]
  },
  {
   "cell_type": "code",
   "execution_count": null,
   "id": "936347b7-35d5-469b-b75f-ffa5e6acd2f1",
   "metadata": {
    "tags": []
   },
   "outputs": [],
   "source": [
    "#These are saved within the datacube 'tree' structure, we can see this by:\n",
    "datacube.treekeys"
   ]
  },
  {
   "cell_type": "code",
   "execution_count": null,
   "id": "1e20fcd9-9f91-45e2-a37b-07ebb1cc8ec4",
   "metadata": {
    "tags": []
   },
   "outputs": [],
   "source": [
    "#now let's plot these\n",
    "py4DSTEM.show([\n",
    "        datacube.tree('dp_mean'), \n",
    "        datacube.tree('dp_max'), \n",
    "    ],\n",
    "    cmap='inferno',\n",
    "    power = 0.5,\n",
    ")"
   ]
  },
  {
   "cell_type": "code",
   "execution_count": null,
   "id": "86eb22c1-e397-43f4-a30e-49cb0d5c8362",
   "metadata": {
    "tags": []
   },
   "outputs": [],
   "source": [
    "dp = datacube[1,1]\n",
    "show(dp)"
   ]
  },
  {
   "cell_type": "code",
   "execution_count": null,
   "id": "1a6de38b-f09e-4ff8-aa2d-39c804acb671",
   "metadata": {
    "tags": []
   },
   "outputs": [],
   "source": [
    "probe_semiangle, probe_qx0, probe_qy0 = py4DSTEM.process.calibration.get_probe_size(\n",
    "    dp,\n",
    ")\n",
    "print(probe_semiangle, probe_qx0, probe_qy0 )"
   ]
  },
  {
   "cell_type": "code",
   "execution_count": null,
   "id": "9787088e-a513-42f7-86e0-45f4f0c33198",
   "metadata": {
    "tags": []
   },
   "outputs": [],
   "source": [
    "# Create an annular dark field (ADF) virtual detector using user-chosen values:\n",
    "center =probe_qx0,probe_qy0# (dataset.shape[-1]//2,dataset.shape[-1]//2)\n",
    "radii = (50,255)\n",
    "\n",
    "# Plot the ADF detector\n",
    "py4DSTEM.visualize.show(\n",
    "    datacube.tree('dp_max'), \n",
    "    scaling='log',\n",
    "    \n",
    "    annulus = {\n",
    "      'center':center,\n",
    "      'radii':radii,\n",
    "      'alpha':0.3,\n",
    "      'fill':True\n",
    "    }\n",
    ")\n",
    "\n",
    "# Calculate the ADF image\n",
    "datacube.get_virtual_image(\n",
    "    mode = 'annulus',\n",
    "    geometry = ((center),radii),\n",
    "    name = 'dark_field',\n",
    ")\n",
    "\n",
    "# Plot the ADF image\n",
    "py4DSTEM.visualize.show(\n",
    "    datacube.tree('dark_field'),\n",
    ")"
   ]
  },
  {
   "cell_type": "code",
   "execution_count": null,
   "id": "363a5e2c-c731-41ea-a140-98d7529d9c03",
   "metadata": {
    "tags": []
   },
   "outputs": [],
   "source": [
    "datacube.treekeys"
   ]
  },
  {
   "cell_type": "code",
   "execution_count": null,
   "id": "241ad54f-77b1-4e0d-8101-01e82cb21cd4",
   "metadata": {
    "tags": []
   },
   "outputs": [],
   "source": [
    "# Try making a synthetic probe\n",
    "syn_probe_width='3'\n",
    "syn_probe_rad = int(probe_semiangle)\n",
    "syn_probe_width = float(syn_probe_width)\n",
    "\n",
    "syn_probe = py4DSTEM.braggvectors.probe.Probe.generate_synthetic_probe(syn_probe_rad, syn_probe_width, (datacube.data.shape[-1], datacube.data.shape[-1]))"
   ]
  },
  {
   "cell_type": "code",
   "execution_count": null,
   "id": "5a279901-0a24-4187-a1f5-4311fae18ddc",
   "metadata": {
    "tags": []
   },
   "outputs": [],
   "source": [
    "# Construct a probe template to use as a kernel for correlation disk detection\n",
    "probe_semiangle = syn_probe_rad\n",
    "syn_probe_kernel = syn_probe.get_kernel(\n",
    "    mode = 'sigmoid',\n",
    "    radii = (probe_semiangle * 1, probe_semiangle * 3.0),\n",
    "    bilinear=True,\n",
    ")\n",
    "\n",
    "# Plot the probe kernel\n",
    "py4DSTEM.visualize.show_kernel(\n",
    "    syn_probe.kernel, \n",
    "    R=20, \n",
    "    L=20, \n",
    "    W=1,\n",
    "    figsize = (8,4),\n",
    ")\n"
   ]
  },
  {
   "cell_type": "code",
   "execution_count": null,
   "id": "3bfe3144-ee75-44a6-a255-17c531589cec",
   "metadata": {
    "tags": []
   },
   "outputs": [],
   "source": [
    "#pick random positions with high intensity from df image\n",
    "n_pos = 6 # number of positinos\n",
    "df_mean =datacube.tree('dark_field').data.mean()\n",
    "pos = np.where(datacube.tree('dark_field').data > df_mean)\n",
    "xy_pos = np.zeros(shape = (2, n_pos))\n",
    "for i in range(n_pos):\n",
    "    rand_int = np.random.randint(0, pos[0].shape[0])\n",
    "    xy_pos[0,i] = pos[0][rand_int]\n",
    "    xy_pos[1,i] = pos[1][rand_int]"
   ]
  },
  {
   "cell_type": "code",
   "execution_count": null,
   "id": "a8ff12b7-c6be-4391-a879-1359f04ca4ee",
   "metadata": {
    "tags": []
   },
   "outputs": [],
   "source": [
    "# Choose some diffraction patterns to use for hyperparameter tuning\n",
    "\n",
    "rxs = tuple(xy_pos[0].astype(int))\n",
    "rys = tuple(xy_pos[1].astype(int))\n",
    "\n",
    "py4DSTEM.visualize.show_points(\n",
    "    datacube.tree('dark_field'),\n",
    "    x=xy_pos[0],\n",
    "    y=xy_pos[1],\n",
    "    figsize=(8,8)\n",
    ")"
   ]
  },
  {
   "cell_type": "code",
   "execution_count": null,
   "id": "2a408c10-def4-4925-b0e2-7f45efa2d7bd",
   "metadata": {
    "tags": []
   },
   "outputs": [],
   "source": [
    "# Test hyperparameters on a few probe positions\n",
    "# Visualize the diffraction patterns and the located disk positions\n",
    "\n",
    "# Hyperparameters\n",
    "detect_params = {\n",
    "    'corrPower': 1.0, #1.0,\n",
    "    'sigma': 0,\n",
    "    'edgeBoundary': 2,\n",
    "    'minRelativeIntensity': 0,\n",
    "    'minAbsoluteIntensity': 0.25, #0.5,\n",
    "    'minPeakSpacing': 2,\n",
    "    'subpixel' : 'poly',\n",
    "#     'subpixel' : 'multicorr',\n",
    "    'upsample_factor': 2,\n",
    "    'maxNumPeaks': 1000,\n",
    "#     'CUDA': True,\n",
    "}\n",
    "\n",
    "disks_selected = datacube.find_Bragg_disks(\n",
    "    data = (rxs, rys),\n",
    "    template = syn_probe_kernel,\n",
    "    **detect_params,\n",
    ")\n",
    "\n",
    "py4DSTEM.visualize.show_image_grid(\n",
    "    get_ar = lambda i:datacube.data[rxs[i],rys[i],:,:],\n",
    "    H=2, \n",
    "    W=2,\n",
    "    axsize=(5,5),\n",
    "    vmax=1,\n",
    "    power=0.1,\n",
    "    get_x = lambda i: disks_selected[i].data['qx'],\n",
    "    get_y = lambda i: disks_selected[i].data['qy'],\n",
    "    open_circles = True,\n",
    "    scale = 500,\n",
    ")"
   ]
  },
  {
   "cell_type": "code",
   "execution_count": null,
   "id": "b604c7b4-ec22-4bfe-89ef-f54747f840b8",
   "metadata": {
    "tags": []
   },
   "outputs": [],
   "source": [
    "#now fit to all data\n",
    "bragg_peaks = datacube.find_Bragg_disks(\n",
    "    template = syn_probe_kernel,\n",
    "    **detect_params,\n",
    ")"
   ]
  },
  {
   "cell_type": "code",
   "execution_count": null,
   "id": "8148d157-2497-4f29-9c26-8247a3a8105a",
   "metadata": {
    "tags": []
   },
   "outputs": [],
   "source": [
    "file_name_braggdisks_raw =file_path.split('_data')[-2] + '_CL_' +str(cam_len) + 'cm_bragg.h5'\n",
    "print(file_name_braggdisks_raw)"
   ]
  },
  {
   "cell_type": "code",
   "execution_count": null,
   "id": "f84519a2-8dad-4e0d-9f0e-879575d6df6f",
   "metadata": {
    "tags": []
   },
   "outputs": [],
   "source": [
    "# Save Bragg disk positions\n",
    "py4DSTEM.save(\n",
    "    file_name_braggdisks_raw,\n",
    "    bragg_peaks,\n",
    "    mode='o',\n",
    ")"
   ]
  },
  {
   "cell_type": "code",
   "execution_count": null,
   "id": "d6896457-9ab0-406f-8908-f2625f873288",
   "metadata": {
    "tags": []
   },
   "outputs": [],
   "source": [
    "#have a look at the calibration state of the bragg vectors\n",
    "bragg_peaks.calstate"
   ]
  },
  {
   "cell_type": "code",
   "execution_count": null,
   "id": "d18a8440-86c6-4578-b750-411ea849af21",
   "metadata": {
    "tags": []
   },
   "outputs": [],
   "source": [
    "#print current calibrations\n",
    "bragg_peaks.calibration"
   ]
  },
  {
   "cell_type": "code",
   "execution_count": null,
   "id": "ed0aebcc-ca3b-45e3-a5a1-804642023c6b",
   "metadata": {
    "tags": []
   },
   "outputs": [],
   "source": [
    "#display one diff pattern with fit bragg peak postions\n",
    "dp = datacube[1,1]\n",
    "v = bragg_peaks.raw[1,1]\n",
    "\n",
    "show(\n",
    "    dp,\n",
    "    power=0.1,\n",
    "    vmax=0.0001,\n",
    "    points = {\n",
    "        'x' : v.qx,\n",
    "        'y' : v.qy,\n",
    "    }\n",
    ")"
   ]
  },
  {
   "cell_type": "code",
   "execution_count": null,
   "id": "84d57609-943c-4804-b0fb-045ec72dce2d",
   "metadata": {
    "tags": []
   },
   "outputs": [],
   "source": [
    "# compute the bragg vector map\n",
    "\n",
    "bvm = bragg_peaks.histogram(\n",
    "    mode='raw',\n",
    "    sampling = 1,\n",
    ")\n",
    "\n",
    "show(bvm)"
   ]
  },
  {
   "cell_type": "code",
   "execution_count": null,
   "id": "31cbd8c4-42c9-4fcb-95cf-694bb2319284",
   "metadata": {
    "tags": []
   },
   "outputs": [],
   "source": [
    "# Measure the origin\n",
    "center_guess = (probe_qx0,probe_qy0)\n",
    "qx0_meas,qy0_meas,mask_meas = bragg_peaks.measure_origin(\n",
    "    center_guess=center_guess,\n",
    "    score_method='intensity',\n",
    ")\n",
    "\n",
    "fig, ax = show(\n",
    "    [qx0_meas,qy0_meas],\n",
    "    cmap = 'RdBu',\n",
    "    returnfig=True,\n",
    ")"
   ]
  },
  {
   "cell_type": "code",
   "execution_count": null,
   "id": "4f50cb5f-68c7-493a-b0e6-6f99946c4b35",
   "metadata": {
    "tags": []
   },
   "outputs": [],
   "source": [
    "# Fit a plane to the origins\n",
    "qx0_fit,qy0_fit,qx0_residuals,qy0_residuals = bragg_peaks.fit_origin(\n",
    "    robust= True,\n",
    "    robust_thresh= 1.2,\n",
    ")"
   ]
  },
  {
   "cell_type": "code",
   "execution_count": null,
   "id": "a8629e4b-07d4-4641-9101-d75f9699f775",
   "metadata": {
    "tags": []
   },
   "outputs": [],
   "source": [
    "# Now that we've calibrated the center positions, we can re-compute\n",
    "# the Bragg vector map, this time with the center correction applied\n",
    "\n",
    "sampling = 1\n",
    "\n",
    "# compute\n",
    "bvm = bragg_peaks.histogram(\n",
    "    #mode='cal',             # 'cal' is the default mode, so this line can be included or left out\n",
    "    sampling = sampling,\n",
    ")\n",
    "\n",
    "fig, ax = show(\n",
    "    bvm,\n",
    "    circle={\n",
    "        'center' : bvm.origin,   # the centered BVM knows where its origin is \n",
    "        'R' : 4*sampling,\n",
    "        'fill' : False,\n",
    "        'linewidth' : 1\n",
    "    },\n",
    "    returnfig = True,\n",
    "    vmax=0.999\n",
    ")"
   ]
  },
  {
   "cell_type": "code",
   "execution_count": null,
   "id": "b6eb9dc7-fae6-4f7e-881d-20a50b1a8d41",
   "metadata": {
    "tags": []
   },
   "outputs": [],
   "source": [
    "# Compare this to the uncalibrated BVM - much better!\n",
    "# compute raw vs. centered\n",
    "bvm_r = bragg_peaks.histogram( mode='raw', sampling=sampling )\n",
    "bvm_c = bragg_peaks.histogram( mode='cal', sampling=sampling )\n",
    "\n",
    "show( [bvm_r, bvm_c] ,vmax=0.9999, scaling = 'log')\n",
    "\n",
    "L = 20\n",
    "x,y = bvm_c.origin\n",
    "x0,xf = np.round([x-L,x+L]).astype(int)\n",
    "y0,yf = np.round([y-L,y+L]).astype(int)\n",
    "\n",
    "show(\n",
    "    [\n",
    "    bvm_r[x0:xf,y0:yf],\n",
    "    bvm_c[x0:xf,y0:yf]\n",
    "    ],\n",
    "    vmax=0.1,\n",
    "    scaling = 'log'\n",
    ")"
   ]
  },
  {
   "cell_type": "code",
   "execution_count": null,
   "id": "3ec38845-78e1-4711-ac0f-2b01cf387dba",
   "metadata": {
    "tags": []
   },
   "outputs": [],
   "source": [
    "# Define gold structure \n",
    "\n",
    "# set lattice parameter and Z-number\n",
    "a_lat = 4.08\n",
    "atom_num = 79\n",
    "\n",
    "# set max scattering angle, in inverse Angstroms\n",
    "k_max = 1.5\n",
    "\n",
    "\n",
    "# Define lattice\n",
    "pos = np.array([\n",
    "    [0.0, 0.0, 0.0],\n",
    "    [0.0, 0.5, 0.5],\n",
    "    [0.5, 0.0, 0.5],\n",
    "    [0.5, 0.5, 0.0],\n",
    "])\n",
    "\n",
    "# Make crystal\n",
    "crystal = py4DSTEM.process.diffraction.Crystal(\n",
    "    pos, \n",
    "    atom_num, \n",
    "    a_lat)\n",
    "\n",
    "crystal.calculate_structure_factors(k_max)\n",
    "crystal.plot_scattering_intensity()"
   ]
  },
  {
   "cell_type": "code",
   "execution_count": null,
   "id": "a46fd581-aa1a-4e29-8953-392121e032f3",
   "metadata": {
    "tags": []
   },
   "outputs": [],
   "source": [
    "# calibrate\n",
    "bragg_peaks.calibration.set_Q_pixel_size(pixel_size_inv_Ang)\n",
    "bragg_peaks.calibration.set_Q_pixel_units('A^-1')\n",
    "bragg_peaks.setcal()\n",
    "\n",
    "crystal.plot_scattering_intensity(\n",
    "    bragg_peaks = bragg_peaks,\n",
    "    bragg_k_power = 2.0\n",
    ")"
   ]
  },
  {
   "cell_type": "code",
   "execution_count": null,
   "id": "1df91530-13c5-4db8-a4e6-fa25abb4547a",
   "metadata": {
    "tags": []
   },
   "outputs": [],
   "source": [
    "# fit pixel size to lattice\n",
    "crystal.calibrate_pixel_size(\n",
    "    bragg_peaks = bragg_peaks,\n",
    "    bragg_k_power = 4.0,\n",
    "    plot_result = True,\n",
    "    set_calibration_in_place = True\n",
    ")"
   ]
  },
  {
   "cell_type": "code",
   "execution_count": null,
   "id": "b1b5fa7b-98e3-4955-aa30-a13e552053f4",
   "metadata": {
    "tags": []
   },
   "outputs": [],
   "source": [
    "# Select an annular region in which to perform a fit\n",
    "# The ideal is a single, isolated ring of peaks -\n",
    "#attempt at automating\n",
    "\n",
    "pixel_size_inv_Ang = bragg_peaks.calibration['Q_pixel_size']\n",
    "\n",
    "Au_111 = 2.35 # d-spacing, Angstrom\n",
    "Au_200 = 2.04 # d-spacing, Angstrom\n",
    "Au_220 = 1.44 # d-spacing, Angstrom\n",
    "Au_311 = 1.23 # d-spacing, Angstrom\n",
    "\n",
    "q_mid_px = sampling * int((1/ Au_220) / pixel_size_inv_Ang)\n",
    "print(q_mid_px)\n",
    "q_range = (q_mid_px - int(eval(ring_det_range)), q_mid_px + int(eval(ring_det_range)))\n",
    "#if 220 too close to edge use 111 instead\n",
    "if q_mid_px > 220*sampling:\n",
    "    q_mid_px = sampling * int((1/ Au_111) / pixel_size_inv_Ang)\n",
    "    q_range = (q_mid_px - int(eval(ring_det_range)), q_mid_px + int(eval(ring_det_range)))\n",
    "    \n",
    "if HT == 300000 and cam_len == 20:\n",
    "    q_mid_px = sampling * int((1/ Au_311) / pixel_size_inv_Ang)\n",
    "    print(q_mid_px)\n",
    "    q_range = (q_mid_px - int(eval(ring_det_range)), q_mid_px + int(eval(ring_det_range)))\n",
    "    \n",
    "\n",
    "py4DSTEM.show(\n",
    "    bvm_c,\n",
    "    cmap='gray',\n",
    "    intensity_range='absolute',\n",
    "    vmin=0,\n",
    "    vmax=10.0,\n",
    "    annulus={\n",
    "        'center':bvm_c.origin,\n",
    "        'radii': q_range,'fill':True,'color':'r','alpha':0.3}\n",
    ")"
   ]
  },
  {
   "cell_type": "code",
   "execution_count": null,
   "id": "17a3001c-ba5e-45dc-a696-ffd8042527a3",
   "metadata": {
    "tags": []
   },
   "outputs": [],
   "source": [
    "# Fit the elliptical distortions\n",
    "p_ellipse = py4DSTEM.process.calibration.fit_ellipse_1D(\n",
    "    bvm_c,\n",
    "    center = bvm_c.origin,\n",
    "    fitradii = q_range,\n",
    ")\n",
    "\n",
    "# plot the fit\n",
    "py4DSTEM.visualize.show_elliptical_fit(\n",
    "    bvm_c,\n",
    "    q_range,\n",
    "    p_ellipse,\n",
    "    cmap='gray',\n",
    "    intensity_range='absolute',\n",
    "    vmin=0,\n",
    "    vmax=10.0,\n",
    ")\n"
   ]
  },
  {
   "cell_type": "code",
   "execution_count": null,
   "id": "993d5b0e-5e10-43f6-9b38-beda7866d4ef",
   "metadata": {
    "tags": []
   },
   "outputs": [],
   "source": [
    "p_ellipse"
   ]
  },
  {
   "cell_type": "code",
   "execution_count": null,
   "id": "05cdeb7b-e4fa-4793-a3d3-9da619197d04",
   "metadata": {
    "tags": []
   },
   "outputs": [],
   "source": [
    "# The elliptical parameters are not automatically added to the calibration metadata,\n",
    "# (to allow inspection of the fit to ensure it's accurate), so need to be added manually\n",
    "# once a good fit is found. Like so:\n",
    "\n",
    "bragg_peaks.calibration.set_p_ellipse(p_ellipse)"
   ]
  },
  {
   "cell_type": "code",
   "execution_count": null,
   "id": "1a971f08-e7fd-443e-bebb-2d6a7ff56561",
   "metadata": {
    "tags": []
   },
   "outputs": [],
   "source": [
    "# Note that the code above only adds (a,b,theta) to the calibration metadata; the origin needs to\n",
    "# be calibrated separately, as we did above \n",
    "\n",
    "bragg_peaks.calibration"
   ]
  },
  {
   "cell_type": "code",
   "execution_count": null,
   "id": "df3faf14-d864-4825-a7a4-cb2a5c84a834",
   "metadata": {
    "tags": []
   },
   "outputs": [],
   "source": [
    "# Calibrate, compute a new bragg vector map, and compare\n",
    "\n",
    "bragg_peaks.setcal()\n",
    "bvm_e = bragg_peaks.histogram(\n",
    "    sampling=sampling\n",
    ")\n",
    "\n",
    "show([bvm_e, bvm_c], vmax=0.99 ,   annulus={\n",
    "        'center':bvm_c.origin,\n",
    "        'radii': q_range,'fill':True,'color':'r','alpha':0.3})"
   ]
  },
  {
   "cell_type": "code",
   "execution_count": null,
   "id": "508aba85-c323-47c3-a0c5-4db2797a74d5",
   "metadata": {
    "tags": []
   },
   "outputs": [],
   "source": [
    "# Define gold structure \n",
    "\n",
    "# set lattice parameter and Z-number\n",
    "a_lat = 4.08\n",
    "atom_num = 79\n",
    "\n",
    "# set max scattering angle, in inverse Angstroms\n",
    "k_max = 1.5\n",
    "\n",
    "\n",
    "# Define lattice\n",
    "pos = np.array([\n",
    "    [0.0, 0.0, 0.0],\n",
    "    [0.0, 0.5, 0.5],\n",
    "    [0.5, 0.0, 0.5],\n",
    "    [0.5, 0.5, 0.0],\n",
    "])\n",
    "\n",
    "# Make crystal\n",
    "crystal = py4DSTEM.process.diffraction.Crystal(\n",
    "    pos, \n",
    "    atom_num, \n",
    "    a_lat)\n",
    "\n",
    "crystal.calculate_structure_factors(k_max)\n",
    "crystal.plot_scattering_intensity()"
   ]
  },
  {
   "cell_type": "code",
   "execution_count": null,
   "id": "2e9949fb-35d8-4d3d-a9b3-cd6d2f757fcc",
   "metadata": {
    "tags": []
   },
   "outputs": [],
   "source": [
    "# calibrate\n",
    "bragg_peaks.calibration.set_Q_pixel_size(pixel_size_inv_Ang)\n",
    "bragg_peaks.calibration.set_Q_pixel_units('A^-1')\n",
    "bragg_peaks.setcal()\n",
    "\n",
    "crystal.plot_scattering_intensity(\n",
    "    bragg_peaks = bragg_peaks,\n",
    "    bragg_k_power = 2.0\n",
    ")"
   ]
  },
  {
   "cell_type": "code",
   "execution_count": null,
   "id": "55b7361d-8503-433f-bfa7-0e802a8e90e9",
   "metadata": {
    "tags": []
   },
   "outputs": [],
   "source": [
    "# fit pixel size to lattice\n",
    "crystal.calibrate_pixel_size(\n",
    "    bragg_peaks = bragg_peaks,\n",
    "    bragg_k_power = 4.0,\n",
    "    plot_result = True,\n",
    "    set_calibration_in_place = True\n",
    ")"
   ]
  },
  {
   "cell_type": "code",
   "execution_count": null,
   "id": "e0aa1582-0f03-42f8-9691-1b77d2b616cb",
   "metadata": {},
   "outputs": [],
   "source": [
    "cal_dict = {}\n",
    "cal_dict['reciprocal_space_pix(1/A)'] = bragg_peaks.calibration['Q_pixel_size']\n",
    "cal_dict['p_ellipse'] = p_ellipse\n",
    "cal_dict['nominal_camera_length(m)'] = nominal_CL\n",
    "\n",
    "file_name_json = file_path.split('_data')[-2] + '_CL_' +str(cam_len) + 'cm.json'\n",
    "\n",
    "with open(file_name_json, 'w') as fp:\n",
    "    json.dump(cal_dict, fp)"
   ]
  }
 ],
 "metadata": {
  "kernelspec": {
   "display_name": "Python 3.10 - EPSIC [DLS Conda]",
   "language": "python",
   "name": "conda-env-DLS_Conda-epsic3.10-kernel.json"
  },
  "language_info": {
   "codemirror_mode": {
    "name": "ipython",
    "version": 3
   },
   "file_extension": ".py",
   "mimetype": "text/x-python",
   "name": "python",
   "nbconvert_exporter": "python",
   "pygments_lexer": "ipython3",
   "version": "3.10.13"
  },
  "widgets": {
   "application/vnd.jupyter.widget-state+json": {
    "state": {},
    "version_major": 2,
    "version_minor": 0
   }
  }
 },
 "nbformat": 4,
 "nbformat_minor": 5
}
